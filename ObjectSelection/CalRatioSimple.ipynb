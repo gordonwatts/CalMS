{
 "cells": [
  {
   "cell_type": "markdown",
   "metadata": {},
   "source": [
    "# LLP Jet Selection: Simple\n",
    "\n",
    "For the first version of the analysis we want to look at some very simple jet properties to select CalRatio jets: $\\log(\\frac{HAD}{EM})$ (old-skool).\n",
    "\n",
    "1. Look at jet $p_T$ range for our low and high mass signal samples, LLP and non-LLP jets.\n",
    "1. Use J3 or J4, depending on the $p_T$ range, as a background sample\n",
    "1. Look at $\\log(\\frac{HAD}{EM})$ for the signal and background\n",
    "1. A quick optimization test to see where we should put a cut.\n"
   ]
  },
  {
   "cell_type": "markdown",
   "metadata": {},
   "source": [
    "## Setup"
   ]
  },
  {
   "cell_type": "code",
   "execution_count": 1,
   "metadata": {},
   "outputs": [],
   "source": [
    "import sys, os\n",
    "sys.path.append(os.pardir)\n",
    "\n",
    "from typing import Optional\n",
    "import matplotlib.pyplot as plt\n",
    "\n",
    "from hl_tables import histogram\n",
    "\n",
    "from calms.data import get_ds, as_single_sample, as_samples"
   ]
  },
  {
   "cell_type": "markdown",
   "metadata": {},
   "source": [
    "## Data Samples"
   ]
  },
  {
   "cell_type": "code",
   "execution_count": 2,
   "metadata": {},
   "outputs": [],
   "source": [
    "def name_sample(s: dict, name: Optional[str] = None):\n",
    "    n = name if name is not None else f'{s[\"mH\"]}-{s[\"mS\"]}'\n",
    "    s.update({'name': n})\n",
    "    \n",
    "high_mass = as_single_sample(get_ds(tag='highmass'))\n",
    "name_sample(high_mass)\n",
    "low_mass = as_single_sample(get_ds(tag='lowmass'))\n",
    "name_sample(low_mass)\n",
    "jz3 = as_samples(get_ds(tag='jz3'))[0]\n",
    "name_sample(jz3, 'JZ3')\n",
    "\n",
    "all_samples = [low_mass, high_mass, jz3]"
   ]
  },
  {
   "cell_type": "markdown",
   "metadata": {},
   "source": [
    "## Jet $p_T$\n",
    "\n",
    "Understand what samples are best to examine this by comparing the $p_T$ spectra."
   ]
  },
  {
   "cell_type": "code",
   "execution_count": 3,
   "metadata": {},
   "outputs": [
    {
     "data": {
      "text/plain": [
       "{'mS': nan,\n",
       " 'mH': nan,\n",
       " 'lifetime': nan,\n",
       " 'campaign': nan,\n",
       " 'tags': 'jetjet,jz3',\n",
       " 'data': <hep_tables.hep_table.xaod_table at 0x2563d378a08>,\n",
       " 'name': 'JZ3'}"
      ]
     },
     "execution_count": 3,
     "metadata": {},
     "output_type": "execute_result"
    }
   ],
   "source": [
    "jz3"
   ]
  },
  {
   "cell_type": "code",
   "execution_count": 4,
   "metadata": {},
   "outputs": [],
   "source": [
    "def define_global_aliases(ds):\n",
    "    from dataframe_expressions import define_alias\n",
    "    define_alias('', 'ptgev', lambda o: o.pt / 1000.0)\n",
    "    \n",
    "def define_loose_jets(ds):\n",
    "    'Establish loose jets as a part of the dataset'\n",
    "    # TODO: Add good-jet criteria to the definition\n",
    "    all_jets = ds.Jets('AntiKt4EMTopoJets')\n",
    "    loose_jets = all_jets[(all_jets.ptgev > 35.0) & (abs(all_jets.eta) < 2.5)]\n",
    "    ds['loose_jets'] = loose_jets\n",
    "    \n",
    "def define_ds(ds):\n",
    "    define_global_aliases(ds)\n",
    "    define_loose_jets(ds)"
   ]
  },
  {
   "cell_type": "code",
   "execution_count": 5,
   "metadata": {},
   "outputs": [],
   "source": [
    "for s in all_samples:\n",
    "    define_ds(s['data'])"
   ]
  },
  {
   "cell_type": "code",
   "execution_count": 6,
   "metadata": {},
   "outputs": [],
   "source": [
    "def plot_pt(ds):\n",
    "    histogram(ds['data'].loose_jets.ptgev, bins=100, range=(0,400))\n",
    "    _ = plt.ylabel('Count')\n",
    "    _ = plt.title(ds['name'])\n",
    "    _ = plt.xlabel('$p_T$ [GeV]')"
   ]
  },
  {
   "cell_type": "code",
   "execution_count": 7,
   "metadata": {},
   "outputs": [
    {
     "data": {
      "image/png": "[encoded data removed]",
      "text/plain": [
       "<Figure size 432x288 with 1 Axes>"
      ]
     },
     "metadata": {
      "needs_background": "light"
     },
     "output_type": "display_data"
    },
    {
     "data": {
      "image/png": "[encoded data removed]",
      "text/plain": [
       "<Figure size 432x288 with 1 Axes>"
      ]
     },
     "metadata": {
      "needs_background": "light"
     },
     "output_type": "display_data"
    },
    {
     "data": {
      "image/png": "[encoded data removed]",
      "text/plain": [
       "<Figure size 432x288 with 1 Axes>"
      ]
     },
     "metadata": {
      "needs_background": "light"
     },
     "output_type": "display_data"
    }
   ],
   "source": [
    "for s in all_samples:\n",
    "    plot_pt(s)"
   ]
  },
  {
   "cell_type": "code",
   "execution_count": null,
   "metadata": {},
   "outputs": [],
   "source": []
  }
 ],
 "metadata": {
  "kernelspec": {
   "display_name": "Python 3",
   "language": "python",
   "name": "python3"
  },
  "language_info": {
   "codemirror_mode": {
    "name": "ipython",
    "version": 3
   },
   "file_extension": ".py",
   "mimetype": "text/x-python",
   "name": "python",
   "nbconvert_exporter": "python",
   "pygments_lexer": "ipython3",
   "version": "3.7.7"
  }
 },
 "nbformat": 4,
 "nbformat_minor": 4
}
