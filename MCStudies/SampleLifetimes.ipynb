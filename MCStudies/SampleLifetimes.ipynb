{
 "cells": [
  {
   "cell_type": "markdown",
   "metadata": {},
   "source": [
    "Look at sample lifetimes and under stand some numbers that we might expect if everything works 'well'."
   ]
  },
  {
   "cell_type": "code",
   "execution_count": 1,
   "metadata": {},
   "outputs": [],
   "source": [
    "import sys, os\n",
    "sys.path.append(os.pardir)\n",
    "\n",
    "import matplotlib.pyplot as plt\n",
    "import matplotlib.patches as patches\n",
    "import numpy as np\n",
    "import pandas as pd\n",
    "\n",
    "from hl_tables import histogram, count\n",
    "from hl_tables.atlas import a_3v\n",
    "from hep_tables import xaod_table\n",
    "from func_adl_xAOD import ServiceXDatasetSource\n",
    "\n",
    "from calms.data import get_ds, as_samples\n",
    "\n",
    "# Sometimes used for debugging (may be syntax errors in here)\n",
    "# import logging\n",
    "# logging.get(\"servicex\").basicConfig(level=logging.DEBUG)\n",
    "# logging.get(\"hep_tables\").basicConfig(level=logging.DEBUG)"
   ]
  },
  {
   "cell_type": "code",
   "execution_count": 2,
   "metadata": {},
   "outputs": [
    {
     "data": {
      "text/html": [
       "<div>\n",
       "<style scoped>\n",
       "    .dataframe tbody tr th:only-of-type {\n",
       "        vertical-align: middle;\n",
       "    }\n",
       "\n",
       "    .dataframe tbody tr th {\n",
       "        vertical-align: top;\n",
       "    }\n",
       "\n",
       "    .dataframe thead th {\n",
       "        text-align: right;\n",
       "    }\n",
       "</style>\n",
       "<table border=\"1\" class=\"dataframe\">\n",
       "  <thead>\n",
       "    <tr style=\"text-align: right;\">\n",
       "      <th></th>\n",
       "      <th>mH</th>\n",
       "      <th>mS</th>\n",
       "      <th>Lifetime</th>\n",
       "      <th>MCCampaign</th>\n",
       "      <th>RucioDSName</th>\n",
       "      <th>Use</th>\n",
       "      <th>Comments</th>\n",
       "    </tr>\n",
       "  </thead>\n",
       "  <tbody>\n",
       "    <tr>\n",
       "      <th>18</th>\n",
       "      <td>125</td>\n",
       "      <td>35</td>\n",
       "      <td>5</td>\n",
       "      <td>mc16e</td>\n",
       "      <td>mc16_13TeV:mc16_13TeV.311312.MadGraphPythia8Ev...</td>\n",
       "      <td>1</td>\n",
       "      <td>NaN</td>\n",
       "    </tr>\n",
       "  </tbody>\n",
       "</table>\n",
       "</div>"
      ],
      "text/plain": [
       "     mH  mS  Lifetime MCCampaign  \\\n",
       "18  125  35         5      mc16e   \n",
       "\n",
       "                                          RucioDSName  Use Comments  \n",
       "18  mc16_13TeV:mc16_13TeV.311312.MadGraphPythia8Ev...    1      NaN  "
      ]
     },
     "execution_count": 2,
     "metadata": {},
     "output_type": "execute_result"
    }
   ],
   "source": [
    "ds = get_ds(mH=125, mS=35, lifetime=5, campaign='mc16e')\n",
    "assert len(ds) == 1\n",
    "ds"
   ]
  },
  {
   "cell_type": "code",
   "execution_count": 3,
   "metadata": {},
   "outputs": [],
   "source": [
    "dataset = ServiceXDatasetSource(f'{ds[\"RucioDSName\"].values[0]}')\n",
    "df = xaod_table(dataset)"
   ]
  },
  {
   "cell_type": "code",
   "execution_count": 4,
   "metadata": {},
   "outputs": [],
   "source": [
    "truth = df.TruthParticles('TruthParticles')\n",
    "llp_truth = truth[truth.pdgId == 35]"
   ]
  },
  {
   "cell_type": "code",
   "execution_count": 5,
   "metadata": {},
   "outputs": [
    {
     "data": {
      "application/vnd.jupyter.widget-view+json": {
       "model_id": "",
       "version_major": 2,
       "version_minor": 0
      },
      "text/plain": [
       "HBox(children=(FloatProgress(value=0.0, description='mc16_13TeV:mc16_13TeV.311312.MadGraphPythia8EvtGen_A14NNP…"
      ]
     },
     "metadata": {},
     "output_type": "display_data"
    },
    {
     "data": {
      "application/vnd.jupyter.widget-view+json": {
       "model_id": "",
       "version_major": 2,
       "version_minor": 0
      },
      "text/plain": [
       "HBox(children=(FloatProgress(value=0.0, description='        Downloaded', layout=Layout(flex='2'), max=9000000…"
      ]
     },
     "metadata": {},
     "output_type": "display_data"
    },
    {
     "data": {
      "image/png": "[encoded data removed]",
      "text/plain": [
       "<Figure size 432x288 with 1 Axes>"
      ]
     },
     "metadata": {
      "needs_background": "light"
     },
     "output_type": "display_data"
    }
   ],
   "source": [
    "histogram (llp_truth.Count(), bins=3, range=(0,3))\n",
    "plt.yscale('log')\n",
    "plt.xlabel('Number of good LLPs in each event')\n",
    "_ = plt.ylabel('a MC Sample')"
   ]
  },
  {
   "cell_type": "code",
   "execution_count": 6,
   "metadata": {},
   "outputs": [],
   "source": [
    "llp_good_truth = llp_truth[llp_truth.hasProdVtx & llp_truth.hasDecayVtx]"
   ]
  },
  {
   "cell_type": "code",
   "execution_count": 7,
   "metadata": {},
   "outputs": [
    {
     "data": {
      "application/vnd.jupyter.widget-view+json": {
       "model_id": "",
       "version_major": 2,
       "version_minor": 0
      },
      "text/plain": [
       "HBox(children=(FloatProgress(value=0.0, description='mc16_13TeV:mc16_13TeV.311312.MadGraphPythia8EvtGen_A14NNP…"
      ]
     },
     "metadata": {},
     "output_type": "display_data"
    },
    {
     "data": {
      "application/vnd.jupyter.widget-view+json": {
       "model_id": "",
       "version_major": 2,
       "version_minor": 0
      },
      "text/plain": [
       "HBox(children=(FloatProgress(value=0.0, description='        Downloaded', layout=Layout(flex='2'), max=9000000…"
      ]
     },
     "metadata": {},
     "output_type": "display_data"
    },
    {
     "data": {
      "image/png": "[encoded data removed]",
      "text/plain": [
       "<Figure size 432x288 with 1 Axes>"
      ]
     },
     "metadata": {
      "needs_background": "light"
     },
     "output_type": "display_data"
    }
   ],
   "source": [
    "histogram(llp_good_truth.Count(), bins=3, range=(-0.5,2.5))\n",
    "plt.xlabel('Number of good LLPs in each event')\n",
    "plt.ylabel('a MC Sample')\n",
    "plt.yscale('log')"
   ]
  },
  {
   "cell_type": "code",
   "execution_count": 8,
   "metadata": {},
   "outputs": [],
   "source": [
    "l_prod = a_3v(llp_good_truth.prodVtx)\n",
    "l_decay = a_3v(llp_good_truth.decayVtx)\n",
    "lxy = (l_decay-l_prod).xy/1000.0"
   ]
  },
  {
   "cell_type": "code",
   "execution_count": 9,
   "metadata": {},
   "outputs": [
    {
     "data": {
      "application/vnd.jupyter.widget-view+json": {
       "model_id": "",
       "version_major": 2,
       "version_minor": 0
      },
      "text/plain": [
       "HBox(children=(FloatProgress(value=0.0, description='mc16_13TeV:mc16_13TeV.311312.MadGraphPythia8EvtGen_A14NNP…"
      ]
     },
     "metadata": {},
     "output_type": "display_data"
    },
    {
     "data": {
      "application/vnd.jupyter.widget-view+json": {
       "model_id": "",
       "version_major": 2,
       "version_minor": 0
      },
      "text/plain": [
       "HBox(children=(FloatProgress(value=0.0, description='        Downloaded', layout=Layout(flex='2'), max=9000000…"
      ]
     },
     "metadata": {},
     "output_type": "display_data"
    },
    {
     "data": {
      "application/vnd.jupyter.widget-view+json": {
       "model_id": "",
       "version_major": 2,
       "version_minor": 0
      },
      "text/plain": [
       "HBox(children=(FloatProgress(value=0.0, description='mc16_13TeV:mc16_13TeV.311312.MadGraphPythia8EvtGen_A14NNP…"
      ]
     },
     "metadata": {},
     "output_type": "display_data"
    },
    {
     "data": {
      "application/vnd.jupyter.widget-view+json": {
       "model_id": "",
       "version_major": 2,
       "version_minor": 0
      },
      "text/plain": [
       "HBox(children=(FloatProgress(value=0.0, description='        Downloaded', layout=Layout(flex='2'), max=9000000…"
      ]
     },
     "metadata": {},
     "output_type": "display_data"
    },
    {
     "data": {
      "application/vnd.jupyter.widget-view+json": {
       "model_id": "",
       "version_major": 2,
       "version_minor": 0
      },
      "text/plain": [
       "HBox(children=(FloatProgress(value=0.0, description='mc16_13TeV:mc16_13TeV.311312.MadGraphPythia8EvtGen_A14NNP…"
      ]
     },
     "metadata": {},
     "output_type": "display_data"
    },
    {
     "data": {
      "application/vnd.jupyter.widget-view+json": {
       "model_id": "",
       "version_major": 2,
       "version_minor": 0
      },
      "text/plain": [
       "HBox(children=(FloatProgress(value=0.0, description='        Downloaded', layout=Layout(flex='2'), max=9000000…"
      ]
     },
     "metadata": {},
     "output_type": "display_data"
    },
    {
     "data": {
      "application/vnd.jupyter.widget-view+json": {
       "model_id": "",
       "version_major": 2,
       "version_minor": 0
      },
      "text/plain": [
       "HBox(children=(FloatProgress(value=0.0, description='mc16_13TeV:mc16_13TeV.311312.MadGraphPythia8EvtGen_A14NNP…"
      ]
     },
     "metadata": {},
     "output_type": "display_data"
    },
    {
     "data": {
      "application/vnd.jupyter.widget-view+json": {
       "model_id": "",
       "version_major": 2,
       "version_minor": 0
      },
      "text/plain": [
       "HBox(children=(FloatProgress(value=0.0, description='        Downloaded', layout=Layout(flex='2'), max=9000000…"
      ]
     },
     "metadata": {},
     "output_type": "display_data"
    },
    {
     "data": {
      "image/png": "[encoded data removed]",
      "text/plain": [
       "<Figure size 432x288 with 1 Axes>"
      ]
     },
     "metadata": {
      "needs_background": "light"
     },
     "output_type": "display_data"
    }
   ],
   "source": [
    "histogram(lxy, bins=50, range=(0,20))\n",
    "plt.yscale('log')\n",
    "plt.xlabel('$L_{xy}$ [m]')\n",
    "_ = plt.title('a MC Sample')"
   ]
  },
  {
   "cell_type": "markdown",
   "metadata": {},
   "source": [
    "# Some info about the old analyses\n",
    "\n",
    "1. [CalRatio Internal Note](https://cds.cern.ch/record/2268150)\n",
    "1. [MSID Internal Note](https://cds.cern.ch/record/2256102)\n",
    "\n",
    "The general plots for reconstruction efficiency can be seen here. CalRatio is trigger only on the right, and MS reconstruction on the left:\n",
    "\n",
    "![](CalRatio-Trigger-Eff-Lxy.png)![](MS-Reco-Eff_lxy.png)\n",
    "\n",
    "It would seem reasonable to use 30% efficency for both, 2.0m-3.5m for the CalRatio, and 4.0m-7.0m for the MS."
   ]
  },
  {
   "cell_type": "code",
   "execution_count": 10,
   "metadata": {},
   "outputs": [],
   "source": [
    "from typing import Tuple\n",
    "class detector_range:\n",
    "    def __init__(self, name: str, range: Tuple[float, float], eff: float):\n",
    "        self._name = name\n",
    "        self._x_min = range[0]\n",
    "        self._x_max = range[1]\n",
    "        self._eff = eff\n",
    "        \n",
    "    def draw_lxy_box(self):\n",
    "        x_center = (self._x_max - self._x_min)/2 + self._x_min\n",
    "\n",
    "        axes = plt.gca()\n",
    "        y_min = axes.get_ylim()[0]\n",
    "        y_max = axes.get_ylim()[1] * 0.90\n",
    "        y_center = (y_max - y_min)/2 + y_min\n",
    "\n",
    "        plt.text(x_center, y_center, self._name, size=10, ha=\"center\", va=\"center\", color='w')\n",
    "\n",
    "        r = patches.Rectangle((self._x_min, y_min),self._x_max - self._x_min, y_max-y_min, linewidth=1, edgecolor='r', facecolor='r', alpha=0.5)\n",
    "        plt.gca().add_patch(r)\n",
    "        axes.add_patch(r)\n",
    "        \n",
    "    def inside(self, lxy):\n",
    "        'Return a max of lxy if lxy is in the range'\n",
    "        return (lxy > self._x_min) & (lxy <= self._x_max)\n",
    "        \n",
    "cal = detector_range('cal', (2.0, 3.5), 0.3)\n",
    "muon = detector_range('muon', (4.0, 7.0), 0.3)"
   ]
  },
  {
   "cell_type": "code",
   "execution_count": 11,
   "metadata": {},
   "outputs": [
    {
     "data": {
      "image/png": "[encoded data removed]",
      "text/plain": [
       "<Figure size 432x288 with 1 Axes>"
      ]
     },
     "metadata": {
      "needs_background": "light"
     },
     "output_type": "display_data"
    }
   ],
   "source": [
    "from typing import List\n",
    "def plot_lxy(lxy, d_info: List[detector_range]):\n",
    "    histogram(lxy, bins=50, range=(0,20))\n",
    "    for d in d_info:\n",
    "        d.draw_lxy_box()\n",
    "    plt.yscale('log')\n",
    "    plt.xlabel('$L_{xy}$ [m]')\n",
    "    _ = plt.title('a MC Sample')\n",
    "    \n",
    "plot_lxy(lxy, (cal, muon))"
   ]
  },
  {
   "cell_type": "markdown",
   "metadata": {},
   "source": [
    "Now, calculate the number of times we have a decay in the cal and the muon. Above we were looking at every single LLP in the event that had a good production and decay vertex. For this we have to look at events that have two good LLP's so we can ask questions about each one!"
   ]
  },
  {
   "cell_type": "code",
   "execution_count": 12,
   "metadata": {},
   "outputs": [
    {
     "name": "stdout",
     "output_type": "stream",
     "text": [
      "Wall time: 1.76 s\n"
     ]
    }
   ],
   "source": [
    "%%time\n",
    "lxy_2 = lxy[lxy.Count() == 2]\n",
    "\n",
    "# Now, lets count all maner of these things\n",
    "info = dict(\n",
    "    total = count(lxy_2),\n",
    "    # has_1muon = count(lxy_2[muon.inside(lxy_2[0]) | muon.inside(lxy_2[1])]),\n",
    "    has_1muon = count(lxy_2[lxy_2.mapseq(lambda s: muon.inside(s[0]) | muon.inside(s[1]))]),\n",
    "    has_1cal = count(lxy_2[lxy_2.mapseq(lambda s: cal.inside(s[0]) | cal.inside(s[1]))]),\n",
    "    has_2muon = count(lxy_2[lxy_2.mapseq(lambda s: muon.inside(s[0]) & muon.inside(s[1]))]),\n",
    "    has_2cal = count(lxy_2[lxy_2.mapseq(lambda s: cal.inside(s[0]) & cal.inside(s[1]))]),\n",
    "    has_calms = count(lxy_2[lxy_2.mapseq(lambda s: (cal.inside(s[0]) & muon.inside(s[1])) | (muon.inside(s[0]) & cal.inside(s[1])))])\n",
    ")"
   ]
  },
  {
   "cell_type": "code",
   "execution_count": 13,
   "metadata": {},
   "outputs": [
    {
     "data": {
      "text/plain": [
       "{'total': 299999,\n",
       " 'has_1muon': 47853,\n",
       " 'has_1cal': 87548,\n",
       " 'has_2muon': 2032,\n",
       " 'has_2cal': 7633,\n",
       " 'has_calms': 7763}"
      ]
     },
     "execution_count": 13,
     "metadata": {},
     "output_type": "execute_result"
    }
   ],
   "source": [
    "info"
   ]
  },
  {
   "cell_type": "markdown",
   "metadata": {},
   "source": [
    "The fact that `calms` and `2cal` are so similar, given that `1muon` has half the rate of `1cal` has to do with the symmetry: you have two chances to get a `calms`: LLP1 is in the Cal and LLP2 is in the MS, and also LLP1 is in the MS and LLP2 is in the Cal."
   ]
  }
 ],
 "metadata": {
  "kernelspec": {
   "display_name": "Python 3",
   "language": "python",
   "name": "python3"
  },
  "language_info": {
   "codemirror_mode": {
    "name": "ipython",
    "version": 3
   },
   "file_extension": ".py",
   "mimetype": "text/x-python",
   "name": "python",
   "nbconvert_exporter": "python",
   "pygments_lexer": "ipython3",
   "version": "3.7.7"
  }
 },
 "nbformat": 4,
 "nbformat_minor": 4
}
