{
 "cells": [
  {
   "cell_type": "markdown",
   "metadata": {},
   "source": [
    "Look at sample lifetimes and under stand some numbers that we might expect if everything works 'well'."
   ]
  },
  {
   "cell_type": "code",
   "execution_count": 1,
   "metadata": {},
   "outputs": [],
   "source": [
    "import sys, os\n",
    "sys.path.append(os.pardir)\n",
    "\n",
    "import matplotlib.pyplot as plt\n",
    "import matplotlib.patches as patches\n",
    "import numpy as np\n",
    "import pandas as pd\n",
    "\n",
    "from hl_tables import histogram\n",
    "from hl_tables.atlas import a_3v\n",
    "from hep_tables import xaod_table, make_local\n",
    "from func_adl import EventDataset\n",
    "\n",
    "from data import get_ds"
   ]
  },
  {
   "cell_type": "code",
   "execution_count": 2,
   "metadata": {},
   "outputs": [
    {
     "data": {
      "text/html": [
       "<div>\n",
       "<style scoped>\n",
       "    .dataframe tbody tr th:only-of-type {\n",
       "        vertical-align: middle;\n",
       "    }\n",
       "\n",
       "    .dataframe tbody tr th {\n",
       "        vertical-align: top;\n",
       "    }\n",
       "\n",
       "    .dataframe thead th {\n",
       "        text-align: right;\n",
       "    }\n",
       "</style>\n",
       "<table border=\"1\" class=\"dataframe\">\n",
       "  <thead>\n",
       "    <tr style=\"text-align: right;\">\n",
       "      <th></th>\n",
       "      <th>mH</th>\n",
       "      <th>mS</th>\n",
       "      <th>Lifetime</th>\n",
       "      <th>MCCampaign</th>\n",
       "      <th>RucioDSName</th>\n",
       "      <th>Use</th>\n",
       "      <th>Comments</th>\n",
       "    </tr>\n",
       "  </thead>\n",
       "  <tbody>\n",
       "    <tr>\n",
       "      <th>18</th>\n",
       "      <td>125</td>\n",
       "      <td>35</td>\n",
       "      <td>5</td>\n",
       "      <td>mc16e</td>\n",
       "      <td>mc16_13TeV.311312.MadGraphPythia8EvtGen_A14NNP...</td>\n",
       "      <td>1</td>\n",
       "      <td>NaN</td>\n",
       "    </tr>\n",
       "  </tbody>\n",
       "</table>\n",
       "</div>"
      ],
      "text/plain": [
       "     mH  mS  Lifetime MCCampaign  \\\n",
       "18  125  35         5      mc16e   \n",
       "\n",
       "                                          RucioDSName  Use Comments  \n",
       "18  mc16_13TeV.311312.MadGraphPythia8EvtGen_A14NNP...    1      NaN  "
      ]
     },
     "execution_count": 2,
     "metadata": {},
     "output_type": "execute_result"
    }
   ],
   "source": [
    "ds = get_ds(mH=125, mS=35, lifetime=5, campaign='mc16e')\n",
    "assert len(ds) == 1\n",
    "ds"
   ]
  },
  {
   "cell_type": "code",
   "execution_count": 3,
   "metadata": {},
   "outputs": [],
   "source": [
    "dataset = EventDataset(f'localds://mc16_13TeV:{ds[\"RucioDSName\"].values[0]}')\n",
    "df = xaod_table(dataset)"
   ]
  },
  {
   "cell_type": "code",
   "execution_count": 4,
   "metadata": {},
   "outputs": [],
   "source": [
    "truth = df.TruthParticles('TruthParticles')\n",
    "llp_truth = truth[truth.pdgId == 35]"
   ]
  },
  {
   "cell_type": "code",
   "execution_count": 5,
   "metadata": {},
   "outputs": [],
   "source": [
    "# n_llp = make_local(llp_truth.Count())"
   ]
  },
  {
   "cell_type": "code",
   "execution_count": 6,
   "metadata": {},
   "outputs": [
    {
     "data": {
      "application/vnd.jupyter.widget-view+json": {
       "model_id": "205715548ea84520b5cb1a35db57cb7b",
       "version_major": 2,
       "version_minor": 0
      },
      "text/plain": [
       "HBox(children=(FloatProgress(value=0.0, description='mc16_13TeV:mc16_13TeV.311312.MadGraphPythia8EvtGen_A14NNP…"
      ]
     },
     "metadata": {},
     "output_type": "display_data"
    },
    {
     "data": {
      "application/vnd.jupyter.widget-view+json": {
       "model_id": "c97fa9ef945446bdbc5bacdad17f263b",
       "version_major": 2,
       "version_minor": 0
      },
      "text/plain": [
       "HBox(children=(FloatProgress(value=0.0, description='        Downloaded', layout=Layout(flex='2'), max=9000000…"
      ]
     },
     "metadata": {},
     "output_type": "display_data"
    },
    {
     "name": "stdout",
     "output_type": "stream",
     "text": [
      "\n",
      "\n"
     ]
    },
    {
     "data": {
      "text/plain": [
       "Text(0, 0.5, 'a MC Sample')"
      ]
     },
     "execution_count": 6,
     "metadata": {},
     "output_type": "execute_result"
    },
    {
     "data": {
      "image/png": "[encoded data removed]",
      "text/plain": [
       "<Figure size 432x288 with 1 Axes>"
      ]
     },
     "metadata": {
      "needs_background": "light"
     },
     "output_type": "display_data"
    }
   ],
   "source": [
    "histogram(llp_truth.Count(), bins=3, range=(0,3))\n",
    "plt.yscale('log')\n",
    "plt.xlabel('Number of good LLPs in each event')\n",
    "plt.ylabel('a MC Sample')"
   ]
  },
  {
   "cell_type": "code",
   "execution_count": 7,
   "metadata": {},
   "outputs": [],
   "source": [
    "llp_good_truth = llp_truth[llp_truth.hasProdVtx & llp_truth.hasDecayVtx]"
   ]
  },
  {
   "cell_type": "code",
   "execution_count": 8,
   "metadata": {},
   "outputs": [
    {
     "data": {
      "application/vnd.jupyter.widget-view+json": {
       "model_id": "1fd3b82950b940f88aa75937d459f3d3",
       "version_major": 2,
       "version_minor": 0
      },
      "text/plain": [
       "HBox(children=(FloatProgress(value=0.0, description='mc16_13TeV:mc16_13TeV.311312.MadGraphPythia8EvtGen_A14NNP…"
      ]
     },
     "metadata": {},
     "output_type": "display_data"
    },
    {
     "data": {
      "application/vnd.jupyter.widget-view+json": {
       "model_id": "7d0947dea29f4422bb02de80d964755f",
       "version_major": 2,
       "version_minor": 0
      },
      "text/plain": [
       "HBox(children=(FloatProgress(value=0.0, description='        Downloaded', layout=Layout(flex='2'), max=9000000…"
      ]
     },
     "metadata": {},
     "output_type": "display_data"
    },
    {
     "name": "stdout",
     "output_type": "stream",
     "text": [
      "\n",
      "\n"
     ]
    },
    {
     "data": {
      "image/png": "[encoded data removed]",
      "text/plain": [
       "<Figure size 432x288 with 1 Axes>"
      ]
     },
     "metadata": {
      "needs_background": "light"
     },
     "output_type": "display_data"
    }
   ],
   "source": [
    "histogram(llp_good_truth.Count(), bins=3, range=(-0.5,2.5))\n",
    "plt.xlabel('Number of good LLPs in each event')\n",
    "plt.ylabel('a MC Sample')\n",
    "plt.yscale('log')"
   ]
  },
  {
   "cell_type": "code",
   "execution_count": 9,
   "metadata": {},
   "outputs": [
    {
     "data": {
      "application/vnd.jupyter.widget-view+json": {
       "model_id": "5c312b035ee340eeb92a482ad970e2f3",
       "version_major": 2,
       "version_minor": 0
      },
      "text/plain": [
       "HBox(children=(FloatProgress(value=0.0, description='mc16_13TeV:mc16_13TeV.311312.MadGraphPythia8EvtGen_A14NNP…"
      ]
     },
     "metadata": {},
     "output_type": "display_data"
    },
    {
     "data": {
      "application/vnd.jupyter.widget-view+json": {
       "model_id": "088892acbaac43fbbcd872d8722809d5",
       "version_major": 2,
       "version_minor": 0
      },
      "text/plain": [
       "HBox(children=(FloatProgress(value=0.0, description='        Downloaded', layout=Layout(flex='2'), max=9000000…"
      ]
     },
     "metadata": {},
     "output_type": "display_data"
    },
    {
     "name": "stdout",
     "output_type": "stream",
     "text": [
      "\n",
      "\n"
     ]
    },
    {
     "data": {
      "application/vnd.jupyter.widget-view+json": {
       "model_id": "d17817dd520b42868f3393a4d012dfd9",
       "version_major": 2,
       "version_minor": 0
      },
      "text/plain": [
       "HBox(children=(FloatProgress(value=0.0, description='mc16_13TeV:mc16_13TeV.311312.MadGraphPythia8EvtGen_A14NNP…"
      ]
     },
     "metadata": {},
     "output_type": "display_data"
    },
    {
     "data": {
      "application/vnd.jupyter.widget-view+json": {
       "model_id": "3ae598802d0b428c966d8a2855f3b76f",
       "version_major": 2,
       "version_minor": 0
      },
      "text/plain": [
       "HBox(children=(FloatProgress(value=0.0, description='        Downloaded', layout=Layout(flex='2'), max=9000000…"
      ]
     },
     "metadata": {},
     "output_type": "display_data"
    },
    {
     "name": "stdout",
     "output_type": "stream",
     "text": [
      "\n",
      "\n"
     ]
    },
    {
     "data": {
      "application/vnd.jupyter.widget-view+json": {
       "model_id": "26aff9cf0f074ca585b0bf5861525dc7",
       "version_major": 2,
       "version_minor": 0
      },
      "text/plain": [
       "HBox(children=(FloatProgress(value=0.0, description='mc16_13TeV:mc16_13TeV.311312.MadGraphPythia8EvtGen_A14NNP…"
      ]
     },
     "metadata": {},
     "output_type": "display_data"
    },
    {
     "data": {
      "application/vnd.jupyter.widget-view+json": {
       "model_id": "39031471ed0c4106b4b16e19e14288d6",
       "version_major": 2,
       "version_minor": 0
      },
      "text/plain": [
       "HBox(children=(FloatProgress(value=0.0, description='        Downloaded', layout=Layout(flex='2'), max=9000000…"
      ]
     },
     "metadata": {},
     "output_type": "display_data"
    },
    {
     "name": "stdout",
     "output_type": "stream",
     "text": [
      "\n",
      "\n"
     ]
    },
    {
     "data": {
      "application/vnd.jupyter.widget-view+json": {
       "model_id": "f4dfdfb8212e45a68a9911f78e4b1faa",
       "version_major": 2,
       "version_minor": 0
      },
      "text/plain": [
       "HBox(children=(FloatProgress(value=0.0, description='mc16_13TeV:mc16_13TeV.311312.MadGraphPythia8EvtGen_A14NNP…"
      ]
     },
     "metadata": {},
     "output_type": "display_data"
    },
    {
     "data": {
      "application/vnd.jupyter.widget-view+json": {
       "model_id": "9fae9730afa54759a72d9bcc94cb3587",
       "version_major": 2,
       "version_minor": 0
      },
      "text/plain": [
       "HBox(children=(FloatProgress(value=0.0, description='        Downloaded', layout=Layout(flex='2'), max=9000000…"
      ]
     },
     "metadata": {},
     "output_type": "display_data"
    },
    {
     "name": "stdout",
     "output_type": "stream",
     "text": [
      "\n",
      "\n"
     ]
    },
    {
     "data": {
      "image/png": "[encoded data removed]",
      "text/plain": [
       "<Figure size 432x288 with 1 Axes>"
      ]
     },
     "metadata": {
      "needs_background": "light"
     },
     "output_type": "display_data"
    }
   ],
   "source": [
    "l_prod = a_3v(llp_good_truth.prodVtx)\n",
    "l_decay = a_3v(llp_good_truth.decayVtx)\n",
    "lxy = (l_decay-l_prod).xy\n",
    "\n",
    "histogram(lxy/1000.0, bins=50, range=(0,20))\n",
    "plt.yscale('log')\n",
    "plt.xlabel('$L_{xy}$ [m]')\n",
    "_ = plt.title('a MC Sample')"
   ]
  },
  {
   "cell_type": "markdown",
   "metadata": {},
   "source": [
    "# Some info about the old analyses\n",
    "\n",
    "1. [CalRatio Internal Note](https://cds.cern.ch/record/2268150)\n",
    "1. [MSID Internal Note](https://cds.cern.ch/record/2256102)\n",
    "\n",
    "The general plots for reconstruction efficiency can be seen here. CalRatio is trigger only on the right, and MS reconstruction on the left:\n",
    "\n",
    "![](CalRatio-Trigger-Eff-Lxy.png)![](MS-Reco-Eff_lxy.png)\n",
    "\n",
    "It would seem reasonable to use 30% efficency for both, 2.0m-3.5m for the CalRatio, and 4.0m-7.0m for the MS."
   ]
  },
  {
   "cell_type": "code",
   "execution_count": null,
   "metadata": {},
   "outputs": [],
   "source": [
    "from typing import Tuple\n",
    "class detector_range:\n",
    "    def __init__(self, name: str, range: Tuple[float, float], eff: float):\n",
    "        self._name = name\n",
    "        self._x_min = range[0]\n",
    "        self._x_max = range[1]\n",
    "        self._eff = eff\n",
    "        \n",
    "    def draw_lxy_box(self):\n",
    "        x_center = (self._x_max - self._x_min)/2 + self._x_min\n",
    "\n",
    "        axes = plt.gca()\n",
    "        y_min = axes.get_ylim()[0]\n",
    "        y_max = axes.get_ylim()[1] * 0.90\n",
    "        y_center = (y_max - y_min)/2 + y_min\n",
    "\n",
    "        plt.text(x_center, y_center, self._name, size=10, ha=\"center\", va=\"center\", color='w')\n",
    "\n",
    "        r = patches.Rectangle((self._x_min, y_min),self._x_max - self._x_min, y_max-y_min, linewidth=1, edgecolor='r', facecolor='r', alpha=0.5)\n",
    "        plt.gca().add_patch(r)\n",
    "        axes.add_patch(r)\n",
    "        \n",
    "    def mask(self, lxy):\n",
    "        'Return a max of lxy if lxy is in the range'\n",
    "        return (lxy > self._x_min) & (lxy <= self._x_max)\n",
    "        \n",
    "cal = detector_range('cal', (2.0, 3.5), 0.3)\n",
    "muon = detector_range('muon', (4.0, 7.0), 0.3)"
   ]
  },
  {
   "cell_type": "code",
   "execution_count": null,
   "metadata": {},
   "outputs": [],
   "source": [
    "from typing import List\n",
    "def plot_lxy(lxy, d_info: List[detector_range]):\n",
    "    plt.hist(lxy.flatten(), bins=50, range=(0,20))\n",
    "    for d in d_info:\n",
    "        d.draw_lxy_box()\n",
    "    plt.yscale('log')\n",
    "    plt.xlabel('$L_{xy}$ [m]')\n",
    "    _ = plt.title('a MC Sample')\n",
    "    \n",
    "plot_lxy(lxy, (cal, muon))"
   ]
  },
  {
   "cell_type": "markdown",
   "metadata": {},
   "source": [
    "Now, calculate the number of times we have a decay in the cal and the muon"
   ]
  },
  {
   "cell_type": "code",
   "execution_count": null,
   "metadata": {},
   "outputs": [],
   "source": [
    "has_muon = muon.mask(lxy)\n",
    "has_cal = cal.mask(lxy)"
   ]
  },
  {
   "cell_type": "code",
   "execution_count": null,
   "metadata": {},
   "outputs": [],
   "source": [
    "def count_with_one(lxy, mask):\n",
    "    s = lxy[mask].count()\n",
    "    return len(s[s == 2].flatten())\n",
    "\n",
    "print (f'cal  = {count_with_one(lxy, has_cal)}')\n",
    "print (f'muon = {count_with_one(lxy, has_muon)}')"
   ]
  },
  {
   "cell_type": "code",
   "execution_count": null,
   "metadata": {},
   "outputs": [],
   "source": [
    "def count_with_two(lxy, mask_1, mask_2):\n",
    "    s_1 = lxy[mask_1].count()\n",
    "    s_2 = lxy[mask_2].count()\n",
    "    \n",
    "    r = s_1[(s_1 == 1) & (s_2 ==1 )]\n",
    "    return len(r.flatten())\n",
    "\n",
    "count_with_two(lxy, has_muon, has_cal)"
   ]
  },
  {
   "cell_type": "code",
   "execution_count": null,
   "metadata": {},
   "outputs": [],
   "source": [
    "def count_events_in_detector(lxy, mask):\n",
    "    s = lxy[mask].count()\n",
    "    return len(s[s > 0].flatten())\n",
    "\n",
    "print (f'Events with Cal  = {count_events_in_detector(lxy, has_cal)}')\n",
    "print (f'Events with Muon = {count_events_in_detector(lxy, has_muon)}')"
   ]
  },
  {
   "cell_type": "code",
   "execution_count": null,
   "metadata": {},
   "outputs": [],
   "source": [
    "info = dict(evt_total = len(lxy),\n",
    "            evt_cal=count_events_in_detector(lxy, has_cal),\n",
    "            evt_muon=count_events_in_detector(lxy, has_muon),\n",
    "            evt_2cal=count_with_one(lxy, has_cal),\n",
    "            evt_2muon=count_with_one(lxy, has_muon),\n",
    "            evt_cal_muon=count_with_two(lxy, has_muon, has_cal)\n",
    "           )"
   ]
  },
  {
   "cell_type": "code",
   "execution_count": null,
   "metadata": {},
   "outputs": [],
   "source": [
    "pd.DataFrame(list(info.items())).T"
   ]
  },
  {
   "cell_type": "code",
   "execution_count": null,
   "metadata": {},
   "outputs": [],
   "source": []
  }
 ],
 "metadata": {
  "kernelspec": {
   "display_name": "Python 3",
   "language": "python",
   "name": "python3"
  },
  "language_info": {
   "codemirror_mode": {
    "name": "ipython",
    "version": 3
   },
   "file_extension": ".py",
   "mimetype": "text/x-python",
   "name": "python",
   "nbconvert_exporter": "python",
   "pygments_lexer": "ipython3",
   "version": "3.7.7"
  }
 },
 "nbformat": 4,
 "nbformat_minor": 4
}
