{
 "cells": [
  {
   "cell_type": "markdown",
   "metadata": {},
   "source": [
    "# ServiceX Timing\n",
    "\n",
    "The `servicex` package tracks how long it takes to run and download files to the local machine for each query. Below is a the data collected when the `SampleLifetimeGrid` workbook is run."
   ]
  },
  {
   "cell_type": "code",
   "execution_count": 1,
   "metadata": {},
   "outputs": [],
   "source": [
    "import pandas as pd\n",
    "import matplotlib.pyplot as plt"
   ]
  },
  {
   "cell_type": "code",
   "execution_count": 2,
   "metadata": {},
   "outputs": [],
   "source": [
    "df = pd.read_csv(\"C:\\\\Users\\\\gordo\\\\AppData\\\\Local\\\\Temp\\\\servicex\\\\log.csv\")"
   ]
  },
  {
   "cell_type": "code",
   "execution_count": 3,
   "metadata": {},
   "outputs": [
    {
     "data": {
      "text/html": [
       "<div>\n",
       "<style scoped>\n",
       "    .dataframe tbody tr th:only-of-type {\n",
       "        vertical-align: middle;\n",
       "    }\n",
       "\n",
       "    .dataframe tbody tr th {\n",
       "        vertical-align: top;\n",
       "    }\n",
       "\n",
       "    .dataframe thead th {\n",
       "        text-align: right;\n",
       "    }\n",
       "</style>\n",
       "<table border=\"1\" class=\"dataframe\">\n",
       "  <thead>\n",
       "    <tr style=\"text-align: right;\">\n",
       "      <th></th>\n",
       "      <th>RequestID</th>\n",
       "      <th>n_files</th>\n",
       "      <th>n_skip</th>\n",
       "      <th>time_sec</th>\n",
       "      <th>no_error</th>\n",
       "    </tr>\n",
       "  </thead>\n",
       "  <tbody>\n",
       "    <tr>\n",
       "      <th>0</th>\n",
       "      <td>b4bdf4ed-40dc-43ef-a821-b4ae15cf04a2</td>\n",
       "      <td>4</td>\n",
       "      <td>0</td>\n",
       "      <td>98.063</td>\n",
       "      <td>1</td>\n",
       "    </tr>\n",
       "    <tr>\n",
       "      <th>1</th>\n",
       "      <td>0dccf816-f5a2-46a1-9c09-9a911c6dd55f</td>\n",
       "      <td>5</td>\n",
       "      <td>0</td>\n",
       "      <td>98.891</td>\n",
       "      <td>1</td>\n",
       "    </tr>\n",
       "    <tr>\n",
       "      <th>2</th>\n",
       "      <td>7c51de2a-8b31-4170-ad49-5da79524e79c</td>\n",
       "      <td>4</td>\n",
       "      <td>0</td>\n",
       "      <td>101.515</td>\n",
       "      <td>1</td>\n",
       "    </tr>\n",
       "    <tr>\n",
       "      <th>3</th>\n",
       "      <td>10970f7b-1a43-43c1-8c0b-7d861f92ff52</td>\n",
       "      <td>4</td>\n",
       "      <td>0</td>\n",
       "      <td>102.110</td>\n",
       "      <td>1</td>\n",
       "    </tr>\n",
       "    <tr>\n",
       "      <th>4</th>\n",
       "      <td>8554794b-5589-4fb0-96cd-6e17f256c83a</td>\n",
       "      <td>4</td>\n",
       "      <td>0</td>\n",
       "      <td>106.500</td>\n",
       "      <td>1</td>\n",
       "    </tr>\n",
       "    <tr>\n",
       "      <th>...</th>\n",
       "      <td>...</td>\n",
       "      <td>...</td>\n",
       "      <td>...</td>\n",
       "      <td>...</td>\n",
       "      <td>...</td>\n",
       "    </tr>\n",
       "    <tr>\n",
       "      <th>223</th>\n",
       "      <td>8aa333dc-cf3e-45f6-976f-8ff13bfe2a11</td>\n",
       "      <td>12</td>\n",
       "      <td>0</td>\n",
       "      <td>2704.969</td>\n",
       "      <td>1</td>\n",
       "    </tr>\n",
       "    <tr>\n",
       "      <th>224</th>\n",
       "      <td>e1ef1bab-b55b-4ea7-8ff7-8e02fa63378c</td>\n",
       "      <td>13</td>\n",
       "      <td>0</td>\n",
       "      <td>2709.531</td>\n",
       "      <td>1</td>\n",
       "    </tr>\n",
       "    <tr>\n",
       "      <th>225</th>\n",
       "      <td>bc5989ef-8e65-4451-b080-5a59ead2c5d5</td>\n",
       "      <td>13</td>\n",
       "      <td>0</td>\n",
       "      <td>2724.297</td>\n",
       "      <td>1</td>\n",
       "    </tr>\n",
       "    <tr>\n",
       "      <th>226</th>\n",
       "      <td>af1b3c3a-1bb4-4fee-a31d-798a83a688fa</td>\n",
       "      <td>13</td>\n",
       "      <td>0</td>\n",
       "      <td>2786.844</td>\n",
       "      <td>1</td>\n",
       "    </tr>\n",
       "    <tr>\n",
       "      <th>227</th>\n",
       "      <td>d94ff6fc-0182-4e8e-a327-1d03f61ba4d0</td>\n",
       "      <td>13</td>\n",
       "      <td>0</td>\n",
       "      <td>2804.766</td>\n",
       "      <td>1</td>\n",
       "    </tr>\n",
       "  </tbody>\n",
       "</table>\n",
       "<p>228 rows × 5 columns</p>\n",
       "</div>"
      ],
      "text/plain": [
       "                                RequestID  n_files  n_skip  time_sec  no_error\n",
       "0    b4bdf4ed-40dc-43ef-a821-b4ae15cf04a2        4       0    98.063         1\n",
       "1    0dccf816-f5a2-46a1-9c09-9a911c6dd55f        5       0    98.891         1\n",
       "2    7c51de2a-8b31-4170-ad49-5da79524e79c        4       0   101.515         1\n",
       "3    10970f7b-1a43-43c1-8c0b-7d861f92ff52        4       0   102.110         1\n",
       "4    8554794b-5589-4fb0-96cd-6e17f256c83a        4       0   106.500         1\n",
       "..                                    ...      ...     ...       ...       ...\n",
       "223  8aa333dc-cf3e-45f6-976f-8ff13bfe2a11       12       0  2704.969         1\n",
       "224  e1ef1bab-b55b-4ea7-8ff7-8e02fa63378c       13       0  2709.531         1\n",
       "225  bc5989ef-8e65-4451-b080-5a59ead2c5d5       13       0  2724.297         1\n",
       "226  af1b3c3a-1bb4-4fee-a31d-798a83a688fa       13       0  2786.844         1\n",
       "227  d94ff6fc-0182-4e8e-a327-1d03f61ba4d0       13       0  2804.766         1\n",
       "\n",
       "[228 rows x 5 columns]"
      ]
     },
     "execution_count": 3,
     "metadata": {},
     "output_type": "execute_result"
    }
   ],
   "source": [
    "df"
   ]
  },
  {
   "cell_type": "code",
   "execution_count": 4,
   "metadata": {},
   "outputs": [
    {
     "data": {
      "image/png": "[encoded data removed]",
      "text/plain": [
       "<Figure size 864x432 with 1 Axes>"
      ]
     },
     "metadata": {
      "needs_background": "light"
     },
     "output_type": "display_data"
    }
   ],
   "source": [
    "plt.figure(figsize=(12,6))\n",
    "plt.hist(df.time_sec/60.0, bins=30)\n",
    "plt.xlabel('Time [minutes]')\n",
    "plt.text(30, 12, f'{len(df)} Queries on ~57 datasets')\n",
    "plt.title(\"ServiceX Query Response Time\")\n",
    "plt.yscale('log')\n",
    "_ = plt.ylabel('# of Queries')"
   ]
  },
  {
   "cell_type": "code",
   "execution_count": 5,
   "metadata": {},
   "outputs": [
    {
     "data": {
      "text/plain": [
       "Text(0.5, 1.0, 'ServiceX Query Response Time vs Number of Files')"
      ]
     },
     "execution_count": 5,
     "metadata": {},
     "output_type": "execute_result"
    },
    {
     "data": {
      "image/png": "[encoded data removed]",
      "text/plain": [
       "<Figure size 864x432 with 1 Axes>"
      ]
     },
     "metadata": {
      "needs_background": "light"
     },
     "output_type": "display_data"
    }
   ],
   "source": [
    "plt.figure(figsize=(12,6))\n",
    "plt.scatter(df.time_sec/60.0, df.n_files)\n",
    "plt.xlabel('Time [minutes]')\n",
    "plt.ylabel('Number of files in dataset')\n",
    "plt.title('ServiceX Query Response Time vs Number of Files')"
   ]
  },
  {
   "cell_type": "markdown",
   "metadata": {},
   "source": [
    "Note the outlyers. This is consistent - I've run it a few times and it seems like this plot looks basically the same each time."
   ]
  }
 ],
 "metadata": {
  "kernelspec": {
   "display_name": "Python 3",
   "language": "python",
   "name": "python3"
  },
  "language_info": {
   "codemirror_mode": {
    "name": "ipython",
    "version": 3
   },
   "file_extension": ".py",
   "mimetype": "text/x-python",
   "name": "python",
   "nbconvert_exporter": "python",
   "pygments_lexer": "ipython3",
   "version": "3.7.7"
  }
 },
 "nbformat": 4,
 "nbformat_minor": 4
}
