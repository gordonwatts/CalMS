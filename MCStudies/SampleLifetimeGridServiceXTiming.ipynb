{
 "cells": [
  {
   "cell_type": "markdown",
   "metadata": {},
   "source": [
    "# ServiceX Timing\n",
    "\n",
    "The `servicex` package tracks how long it takes to run and download files to the local machine for each query. Below is a the data collected when the `SampleLifetimeGrid` workbook is run."
   ]
  },
  {
   "cell_type": "code",
   "execution_count": 1,
   "metadata": {},
   "outputs": [],
   "source": [
    "import pandas as pd\n",
    "import matplotlib.pyplot as plt"
   ]
  },
  {
   "cell_type": "code",
   "execution_count": 2,
   "metadata": {},
   "outputs": [],
   "source": [
    "df = pd.read_csv(\"C:\\\\Users\\\\gordo\\\\AppData\\\\Local\\\\Temp\\\\servicex\\\\log.csv\")"
   ]
  },
  {
   "cell_type": "code",
   "execution_count": 3,
   "metadata": {},
   "outputs": [
    {
     "data": {
      "text/html": [
       "<div>\n",
       "<style scoped>\n",
       "    .dataframe tbody tr th:only-of-type {\n",
       "        vertical-align: middle;\n",
       "    }\n",
       "\n",
       "    .dataframe tbody tr th {\n",
       "        vertical-align: top;\n",
       "    }\n",
       "\n",
       "    .dataframe thead th {\n",
       "        text-align: right;\n",
       "    }\n",
       "</style>\n",
       "<table border=\"1\" class=\"dataframe\">\n",
       "  <thead>\n",
       "    <tr style=\"text-align: right;\">\n",
       "      <th></th>\n",
       "      <th>RequestID</th>\n",
       "      <th>n_files</th>\n",
       "      <th>n_skip</th>\n",
       "      <th>time_sec</th>\n",
       "      <th>no_error</th>\n",
       "    </tr>\n",
       "  </thead>\n",
       "  <tbody>\n",
       "    <tr>\n",
       "      <th>0</th>\n",
       "      <td>846cfa03-f0b7-4410-9ca1-db692ba253e3</td>\n",
       "      <td>10</td>\n",
       "      <td>10</td>\n",
       "      <td>64.938</td>\n",
       "      <td>0</td>\n",
       "    </tr>\n",
       "    <tr>\n",
       "      <th>1</th>\n",
       "      <td>79c8d609-f0db-4a82-b9a5-ccdef2919823</td>\n",
       "      <td>6</td>\n",
       "      <td>5</td>\n",
       "      <td>65.015</td>\n",
       "      <td>0</td>\n",
       "    </tr>\n",
       "    <tr>\n",
       "      <th>2</th>\n",
       "      <td>24e0ceb1-def0-49fc-887e-a0aa63201bc3</td>\n",
       "      <td>10</td>\n",
       "      <td>2</td>\n",
       "      <td>65.422</td>\n",
       "      <td>0</td>\n",
       "    </tr>\n",
       "    <tr>\n",
       "      <th>3</th>\n",
       "      <td>78eeeb9d-a31d-40c3-8c83-5dd01a2b4d8a</td>\n",
       "      <td>7</td>\n",
       "      <td>7</td>\n",
       "      <td>68.953</td>\n",
       "      <td>0</td>\n",
       "    </tr>\n",
       "    <tr>\n",
       "      <th>4</th>\n",
       "      <td>2f597d9d-77e6-4b38-a3e8-39cfd600f865</td>\n",
       "      <td>7</td>\n",
       "      <td>7</td>\n",
       "      <td>69.563</td>\n",
       "      <td>0</td>\n",
       "    </tr>\n",
       "    <tr>\n",
       "      <th>...</th>\n",
       "      <td>...</td>\n",
       "      <td>...</td>\n",
       "      <td>...</td>\n",
       "      <td>...</td>\n",
       "      <td>...</td>\n",
       "    </tr>\n",
       "    <tr>\n",
       "      <th>805</th>\n",
       "      <td>3c17760e-0f03-4fc6-9c7b-5770fb914994</td>\n",
       "      <td>21</td>\n",
       "      <td>1</td>\n",
       "      <td>43.109</td>\n",
       "      <td>0</td>\n",
       "    </tr>\n",
       "    <tr>\n",
       "      <th>806</th>\n",
       "      <td>8e63d37e-1294-4f77-be78-cc99d4d69167</td>\n",
       "      <td>3</td>\n",
       "      <td>0</td>\n",
       "      <td>49.422</td>\n",
       "      <td>1</td>\n",
       "    </tr>\n",
       "    <tr>\n",
       "      <th>807</th>\n",
       "      <td>69ef81a9-d17a-4e54-9d04-fae1dd5fe835</td>\n",
       "      <td>10</td>\n",
       "      <td>0</td>\n",
       "      <td>62.703</td>\n",
       "      <td>1</td>\n",
       "    </tr>\n",
       "    <tr>\n",
       "      <th>808</th>\n",
       "      <td>c5c0a302-3540-4e92-b493-b4f16d70cba0</td>\n",
       "      <td>11</td>\n",
       "      <td>0</td>\n",
       "      <td>68.828</td>\n",
       "      <td>1</td>\n",
       "    </tr>\n",
       "    <tr>\n",
       "      <th>809</th>\n",
       "      <td>6e35a838-f5cb-4688-a61f-d93eeed7de9a</td>\n",
       "      <td>536</td>\n",
       "      <td>0</td>\n",
       "      <td>313.422</td>\n",
       "      <td>1</td>\n",
       "    </tr>\n",
       "  </tbody>\n",
       "</table>\n",
       "<p>810 rows × 5 columns</p>\n",
       "</div>"
      ],
      "text/plain": [
       "                                RequestID  n_files  n_skip  time_sec  no_error\n",
       "0    846cfa03-f0b7-4410-9ca1-db692ba253e3       10      10    64.938         0\n",
       "1    79c8d609-f0db-4a82-b9a5-ccdef2919823        6       5    65.015         0\n",
       "2    24e0ceb1-def0-49fc-887e-a0aa63201bc3       10       2    65.422         0\n",
       "3    78eeeb9d-a31d-40c3-8c83-5dd01a2b4d8a        7       7    68.953         0\n",
       "4    2f597d9d-77e6-4b38-a3e8-39cfd600f865        7       7    69.563         0\n",
       "..                                    ...      ...     ...       ...       ...\n",
       "805  3c17760e-0f03-4fc6-9c7b-5770fb914994       21       1    43.109         0\n",
       "806  8e63d37e-1294-4f77-be78-cc99d4d69167        3       0    49.422         1\n",
       "807  69ef81a9-d17a-4e54-9d04-fae1dd5fe835       10       0    62.703         1\n",
       "808  c5c0a302-3540-4e92-b493-b4f16d70cba0       11       0    68.828         1\n",
       "809  6e35a838-f5cb-4688-a61f-d93eeed7de9a      536       0   313.422         1\n",
       "\n",
       "[810 rows x 5 columns]"
      ]
     },
     "execution_count": 3,
     "metadata": {},
     "output_type": "execute_result"
    }
   ],
   "source": [
    "df"
   ]
  },
  {
   "cell_type": "code",
   "execution_count": 4,
   "metadata": {},
   "outputs": [
    {
     "data": {
      "image/png": "[encoded data removed]",
      "text/plain": [
       "<Figure size 864x432 with 1 Axes>"
      ]
     },
     "metadata": {
      "needs_background": "light"
     },
     "output_type": "display_data"
    }
   ],
   "source": [
    "plt.figure(figsize=(12,6))\n",
    "plt.hist(df.time_sec/60.0, bins=30)\n",
    "plt.xlabel('Time [minutes]')\n",
    "plt.text(30, 12, f'{len(df)} Queries on ~57 datasets')\n",
    "plt.title(\"ServiceX Query Response Time\")\n",
    "plt.yscale('log')\n",
    "_ = plt.ylabel('# of Queries')"
   ]
  },
  {
   "cell_type": "code",
   "execution_count": 5,
   "metadata": {},
   "outputs": [
    {
     "data": {
      "text/plain": [
       "Text(0.5, 1.0, 'ServiceX Query Response Time vs Number of Files')"
      ]
     },
     "execution_count": 5,
     "metadata": {},
     "output_type": "execute_result"
    },
    {
     "data": {
      "image/png": "[encoded data removed]",
      "text/plain": [
       "<Figure size 864x432 with 1 Axes>"
      ]
     },
     "metadata": {
      "needs_background": "light"
     },
     "output_type": "display_data"
    }
   ],
   "source": [
    "plt.figure(figsize=(12,6))\n",
    "plt.scatter(df.time_sec/60.0, df.n_files)\n",
    "plt.xlabel('Time [minutes]')\n",
    "plt.ylabel('Number of files in dataset')\n",
    "plt.title('ServiceX Query Response Time vs Number of Files')"
   ]
  },
  {
   "cell_type": "markdown",
   "metadata": {},
   "source": [
    "Note the outlyers. This is consistent - I've run it a few times and it seems like this plot looks basically the same each time."
   ]
  }
 ],
 "metadata": {
  "kernelspec": {
   "display_name": "Python 3",
   "language": "python",
   "name": "python3"
  },
  "language_info": {
   "codemirror_mode": {
    "name": "ipython",
    "version": 3
   },
   "file_extension": ".py",
   "mimetype": "text/x-python",
   "name": "python",
   "nbconvert_exporter": "python",
   "pygments_lexer": "ipython3",
   "version": "3.7.7"
  }
 },
 "nbformat": 4,
 "nbformat_minor": 4
}
